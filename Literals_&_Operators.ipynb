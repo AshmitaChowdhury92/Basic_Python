{
  "nbformat": 4,
  "nbformat_minor": 0,
  "metadata": {
    "colab": {
      "provenance": [],
      "authorship_tag": "ABX9TyNUW71rHL8HWdowDmbUU69N",
      "include_colab_link": true
    },
    "kernelspec": {
      "name": "python3",
      "display_name": "Python 3"
    },
    "language_info": {
      "name": "python"
    }
  },
  "cells": [
    {
      "cell_type": "markdown",
      "metadata": {
        "id": "view-in-github",
        "colab_type": "text"
      },
      "source": [
        "<a href=\"https://colab.research.google.com/github/AshmitaChowdhury92/Basic_Python/blob/main/Literals_%26_Operators.ipynb\" target=\"_parent\"><img src=\"https://colab.research.google.com/assets/colab-badge.svg\" alt=\"Open In Colab\"/></a>"
      ]
    },
    {
      "cell_type": "markdown",
      "source": [
        "# **Literals:**\n",
        "Literals are raw data given to a variables. 4 types.\n",
        "1. Numerical 2. String 3. Boolean 4. Speacial"
      ],
      "metadata": {
        "id": "13P5PDT1OEad"
      }
    },
    {
      "cell_type": "code",
      "execution_count": null,
      "metadata": {
        "colab": {
          "base_uri": "https://localhost:8080/"
        },
        "id": "IEK6mUOTNREP",
        "outputId": "73648d90-5a1a-41c7-e447-f7e4a60f98d6"
      },
      "outputs": [
        {
          "output_type": "stream",
          "name": "stdout",
          "text": [
            "10 100 200 300\n",
            "10.5 150.0 0.0015\n",
            "3.14j 3.14 0.0\n"
          ]
        }
      ],
      "source": [
        "################# numerical literals ################\n",
        "a = 0b1010 #Binary Literals\n",
        "b = 100 #Decimal Literal\n",
        "c = 0o310 #Octal Literal\n",
        "d = 0x12c #Hexadecimal Literal\n",
        "\n",
        "#Float Literal\n",
        "float_1 = 10.5\n",
        "float_2 = 1.5e2\n",
        "float_3 = 1.5e-3\n",
        "\n",
        "#Complex Literal\n",
        "x = 3.14j\n",
        "\n",
        "print(a, b, c, d)\n",
        "print(float_1, float_2,float_3)\n",
        "print(x, x.imag, x.real)"
      ]
    },
    {
      "cell_type": "code",
      "source": [
        "######################### string literals #####################\n",
        "string = 'This is Python'\n",
        "strings = \"This is Python\"\n",
        "char = \"C\"\n",
        "multiline_str = \"\"\"This is a multiline string with more than one line code.\"\"\"\n",
        "unicode = u\"\\U0001f600\\U0001F606\\U0001F923\"\n",
        "raw_str = r\"raw \\n string\"\n",
        "\n",
        "print(string)\n",
        "print(strings)\n",
        "print(char)\n",
        "print(multiline_str)\n",
        "print(unicode)\n",
        "print(raw_str)"
      ],
      "metadata": {
        "colab": {
          "base_uri": "https://localhost:8080/"
        },
        "id": "ck4F30leN5O6",
        "outputId": "df82e896-c9ea-40c5-d457-11b4bb29a79d"
      },
      "execution_count": null,
      "outputs": [
        {
          "output_type": "stream",
          "name": "stdout",
          "text": [
            "This is Python\n",
            "This is Python\n",
            "C\n",
            "This is a multiline string with more than one line code.\n",
            "😀😆🤣\n",
            "raw \\n string\n"
          ]
        }
      ]
    },
    {
      "cell_type": "code",
      "source": [
        "######################### boolean literals ###################\n",
        "a = True + 4\n",
        "b = False + 10\n",
        "\n",
        "print(\"a:\", a)\n",
        "print(\"b:\", b)"
      ],
      "metadata": {
        "colab": {
          "base_uri": "https://localhost:8080/"
        },
        "id": "OAvvYa1VN8g5",
        "outputId": "454385bc-d5ef-4179-88ae-0a5452324413"
      },
      "execution_count": null,
      "outputs": [
        {
          "output_type": "stream",
          "name": "stdout",
          "text": [
            "a: 5\n",
            "b: 10\n"
          ]
        }
      ]
    },
    {
      "cell_type": "code",
      "source": [
        "######################## special literals ######################\n",
        "\n",
        "### way to declare variable ############\n",
        "a = None\n",
        "print(a)"
      ],
      "metadata": {
        "colab": {
          "base_uri": "https://localhost:8080/"
        },
        "id": "he5JzMQmN_gL",
        "outputId": "ab2ca8d1-3b01-4091-b964-0f816ab381f2"
      },
      "execution_count": null,
      "outputs": [
        {
          "output_type": "stream",
          "name": "stdout",
          "text": [
            "None\n"
          ]
        }
      ]
    },
    {
      "cell_type": "markdown",
      "source": [
        "# **Operators:**\n",
        "1. Arithmatic 3. Comparison 4. Logical 5. Bitwise\n",
        "2. Identity 6. Membership 7. Assignment\n"
      ],
      "metadata": {
        "id": "UCs1jbaURlSy"
      }
    },
    {
      "cell_type": "code",
      "source": [
        "################################ Arithmatic Operator ###########################\n",
        "x = 5\n",
        "y = 2\n",
        "\n",
        "print(x+y)    ## addition\n",
        "print(x-y)    ## sub\n",
        "print(x*y)    ## multi\n",
        "print(x/y)    ## Division\n",
        "print(x//y)   ## integer division\n",
        "print(x%y)    ## modulus operation\n",
        "print(x**y)   ## exponent"
      ],
      "metadata": {
        "colab": {
          "base_uri": "https://localhost:8080/"
        },
        "id": "9WPIseMRaemE",
        "outputId": "2a1b9cd4-c368-4d3c-b576-9346971dc79d"
      },
      "execution_count": null,
      "outputs": [
        {
          "output_type": "stream",
          "name": "stdout",
          "text": [
            "7\n",
            "3\n",
            "10\n",
            "2.5\n",
            "2\n",
            "1\n",
            "25\n"
          ]
        }
      ]
    },
    {
      "cell_type": "code",
      "source": [
        "################################ Comparison Operator ###########################\n",
        "\n",
        "x=5\n",
        "y=2\n",
        "\n",
        "print(x>y)\n",
        "print(x<y)\n",
        "print(x>=y)\n",
        "print(x<=y)\n",
        "print(x==y)\n",
        "print(x!=y)"
      ],
      "metadata": {
        "colab": {
          "base_uri": "https://localhost:8080/"
        },
        "id": "UuAWIzMOaiAc",
        "outputId": "8e61b26e-906f-4219-bf45-2e33918e0ea8"
      },
      "execution_count": null,
      "outputs": [
        {
          "output_type": "stream",
          "name": "stdout",
          "text": [
            "True\n",
            "False\n",
            "True\n",
            "False\n",
            "False\n",
            "True\n"
          ]
        }
      ]
    },
    {
      "cell_type": "code",
      "source": [
        "################################ Logical Operator ###########################\n",
        "x = True\n",
        "y= False\n",
        "\n",
        "print(x and y)\n",
        "print(x or y)\n",
        "print(not x)\n",
        "print(not y)"
      ],
      "metadata": {
        "colab": {
          "base_uri": "https://localhost:8080/"
        },
        "id": "qrBhg933apsc",
        "outputId": "3d7df1ef-3d10-455d-be52-b2cf5c61d8bb"
      },
      "execution_count": null,
      "outputs": [
        {
          "output_type": "stream",
          "name": "stdout",
          "text": [
            "False\n",
            "True\n",
            "False\n",
            "True\n"
          ]
        }
      ]
    },
    {
      "cell_type": "code",
      "source": [
        "################################ Bitwise Operator ###########################\n",
        "x= 2\n",
        "y= 3\n",
        "\n",
        "print(x & y)\n",
        "print(x | y)\n",
        "print(x >> 2)   ## Right Shift\n",
        "print(x << 2)   ## Left Shift\n",
        "print(~x)       ## Complement"
      ],
      "metadata": {
        "colab": {
          "base_uri": "https://localhost:8080/"
        },
        "id": "KywpITxgaqup",
        "outputId": "6bb4e48d-50ee-4bfd-ec6f-0ad46d6fc899"
      },
      "execution_count": null,
      "outputs": [
        {
          "output_type": "stream",
          "name": "stdout",
          "text": [
            "2\n",
            "3\n",
            "0\n",
            "8\n",
            "-3\n"
          ]
        }
      ]
    },
    {
      "cell_type": "code",
      "source": [
        "################################ Assignment Operator ###########################\n",
        "a = 3\n",
        "a += 3\n",
        "print(a)\n",
        "# can be used with any types of operator"
      ],
      "metadata": {
        "colab": {
          "base_uri": "https://localhost:8080/"
        },
        "id": "SXnk4FMFarZq",
        "outputId": "6103f7fb-61e0-46bd-b878-a6b5c8d52a26"
      },
      "execution_count": null,
      "outputs": [
        {
          "output_type": "stream",
          "name": "stdout",
          "text": [
            "6\n"
          ]
        }
      ]
    },
    {
      "cell_type": "code",
      "source": [
        "################################ Identity operator #############################\n",
        "## checks whether two variable are in same memory space\n",
        "\n",
        "a= 3\n",
        "b = 3\n",
        "print (a is b)"
      ],
      "metadata": {
        "colab": {
          "base_uri": "https://localhost:8080/"
        },
        "id": "5jnmVdwDhROD",
        "outputId": "a4a15f0d-b521-4175-8fd7-365ceb200d36"
      },
      "execution_count": null,
      "outputs": [
        {
          "output_type": "stream",
          "name": "stdout",
          "text": [
            "True\n"
          ]
        }
      ]
    },
    {
      "cell_type": "code",
      "source": [
        "a= \"Hello\"\n",
        "b = \"Hello\"\n",
        "print (a is b)"
      ],
      "metadata": {
        "colab": {
          "base_uri": "https://localhost:8080/"
        },
        "id": "C0OaGVbPhkD-",
        "outputId": "c6dacb2a-cae9-4527-c498-2cb1970b27dc"
      },
      "execution_count": null,
      "outputs": [
        {
          "output_type": "stream",
          "name": "stdout",
          "text": [
            "True\n"
          ]
        }
      ]
    },
    {
      "cell_type": "code",
      "source": [
        " a= [1,2,3]\n",
        "b =\n",
        "print (a is b)"
      ],
      "metadata": {
        "id": "IWIzNkdRhqpO"
      },
      "execution_count": null,
      "outputs": []
    },
    {
      "cell_type": "code",
      "source": [
        "################################ Membership Operator ###########################\n",
        "a = \" Chittagong \"\n",
        "print (\"C\" in a)\n",
        "print( \"C\" not in a)\n",
        "\n",
        "a= [1,2,3]\n",
        "print(5 in a)"
      ],
      "metadata": {
        "id": "8uVvhEG_ar6k",
        "colab": {
          "base_uri": "https://localhost:8080/"
        },
        "outputId": "1227887d-b235-4c0c-ade1-667d1ace2167"
      },
      "execution_count": 23,
      "outputs": [
        {
          "output_type": "stream",
          "name": "stdout",
          "text": [
            "True\n",
            "False\n",
            "False\n"
          ]
        }
      ]
    }
  ]
}