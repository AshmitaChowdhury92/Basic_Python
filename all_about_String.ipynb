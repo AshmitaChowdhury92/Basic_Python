{
  "nbformat": 4,
  "nbformat_minor": 0,
  "metadata": {
    "colab": {
      "provenance": [],
      "authorship_tag": "ABX9TyNorDyCnOlkmRF9ZRr3+YLl",
      "include_colab_link": true
    },
    "kernelspec": {
      "name": "python3",
      "display_name": "Python 3"
    },
    "language_info": {
      "name": "python"
    }
  },
  "cells": [
    {
      "cell_type": "markdown",
      "metadata": {
        "id": "view-in-github",
        "colab_type": "text"
      },
      "source": [
        "<a href=\"https://colab.research.google.com/github/AshmitaChowdhury92/Basic_Python/blob/main/all_about_String.ipynb\" target=\"_parent\"><img src=\"https://colab.research.google.com/assets/colab-badge.svg\" alt=\"Open In Colab\"/></a>"
      ]
    },
    {
      "cell_type": "markdown",
      "source": [
        "# **Creating Strings**"
      ],
      "metadata": {
        "id": "SxXyJsb9bRVm"
      }
    },
    {
      "cell_type": "code",
      "execution_count": null,
      "metadata": {
        "id": "rl1tMcZbD4iQ",
        "colab": {
          "base_uri": "https://localhost:8080/"
        },
        "outputId": "b4029e51-07d0-44cc-b3bd-c022a5bb3084"
      },
      "outputs": [
        {
          "output_type": "stream",
          "name": "stdout",
          "text": [
            "My name is \"Ashmita\"\n",
            " it's raining outside\n",
            "Used for long paragraph of text.\n",
            "Also used for long paragraph. For example: writting vlog.\n"
          ]
        }
      ],
      "source": [
        "a='My name is \"Ashmita\"'\n",
        "b=\" it's raining outside\"\n",
        "\n",
        "c= '''Used for long paragraph of text.'''\n",
        "d= \"\"\"Also used for long paragraph. For example: writting vlog.\"\"\"\n",
        "\n",
        "print(a)\n",
        "print(b)\n",
        "print(c)\n",
        "print(d)"
      ]
    },
    {
      "cell_type": "markdown",
      "source": [
        "# **Accessing Strings**"
      ],
      "metadata": {
        "id": "5ENlIu6FbbNx"
      }
    },
    {
      "cell_type": "code",
      "execution_count": null,
      "metadata": {
        "colab": {
          "base_uri": "https://localhost:8080/"
        },
        "id": "ocWnwePTZgU-",
        "outputId": "43ad0c61-ffa5-4ca4-d443-9767753e52ab"
      },
      "outputs": [
        {
          "output_type": "stream",
          "name": "stdout",
          "text": [
            "e\n",
            "e\n"
          ]
        }
      ],
      "source": [
        "######################## Indexing #################\n",
        "string1 = \"Hello\"\n",
        "print(string1[1])    ####  Positive Indexing\n",
        "print(string1[-4])    #### Negative Indexing"
      ]
    },
    {
      "cell_type": "code",
      "source": [
        "######################## Slicing ################\n",
        "my_name = \"Hey! My name is XYZ. What's yours?\"\n",
        "print(my_name[:4])\n",
        "print(my_name[5:20])\n",
        "print(my_name[21:])"
      ],
      "metadata": {
        "colab": {
          "base_uri": "https://localhost:8080/"
        },
        "id": "lQgyP8xsbkne",
        "outputId": "f5f2add3-da56-49e4-ffb9-4603a2178b33"
      },
      "execution_count": null,
      "outputs": [
        {
          "output_type": "stream",
          "name": "stdout",
          "text": [
            "Hey!\n",
            "My name is XYZ.\n",
            "What's yours?\n"
          ]
        }
      ]
    },
    {
      "cell_type": "code",
      "source": [
        "print(my_name[5:20:2])\n",
        "print(my_name[-7:-1:2])\n",
        "\n",
        "print(my_name[: : -1])     ######### Reversing string\n",
        "print(string1[-1: : -1])"
      ],
      "metadata": {
        "colab": {
          "base_uri": "https://localhost:8080/"
        },
        "id": "L_rRi7Opd_sL",
        "outputId": "65e7805a-f006-430e-f14d-2f6b819891e1"
      },
      "execution_count": null,
      "outputs": [
        {
          "output_type": "stream",
          "name": "stdout",
          "text": [
            "M aei Y.\n",
            " or\n",
            "?sruoy s'tahW .ZYX si eman yM !yeH\n",
            "olleH\n"
          ]
        }
      ]
    },
    {
      "cell_type": "markdown",
      "source": [
        "**Editing & Deleting Strings**"
      ],
      "metadata": {
        "id": "bEPAA2rBQ3CE"
      }
    },
    {
      "cell_type": "code",
      "execution_count": null,
      "metadata": {
        "id": "Jlt4rNY7ZgzQ",
        "colab": {
          "base_uri": "https://localhost:8080/"
        },
        "outputId": "1eb27e8a-5dcf-403f-fbd5-e5a0b2d07ea7"
      },
      "outputs": [
        {
          "output_type": "stream",
          "name": "stdout",
          "text": [
            "Xello\n"
          ]
        }
      ],
      "source": [
        "s = \"Hello\"\n",
        "s1=s.replace(\"H\",\"X\")\n",
        "print(s1)"
      ]
    },
    {
      "cell_type": "markdown",
      "source": [
        "**NB:** Strings are immutable. String characters can be edited or deleted fully. But Partial deletion is not possible."
      ],
      "metadata": {
        "id": "kx3TGoXUmj7i"
      }
    },
    {
      "cell_type": "code",
      "execution_count": null,
      "metadata": {
        "id": "VjcPytidZhAr",
        "colab": {
          "base_uri": "https://localhost:8080/",
          "height": 210
        },
        "outputId": "b6be49d6-c50c-4c69-c17c-0924cdd34715"
      },
      "outputs": [
        {
          "output_type": "error",
          "ename": "NameError",
          "evalue": "ignored",
          "traceback": [
            "\u001b[0;31m---------------------------------------------------------------------------\u001b[0m",
            "\u001b[0;31mNameError\u001b[0m                                 Traceback (most recent call last)",
            "\u001b[0;32m<ipython-input-18-e1eedc56e6bf>\u001b[0m in \u001b[0;36m<cell line: 2>\u001b[0;34m()\u001b[0m\n\u001b[1;32m      1\u001b[0m \u001b[0;31m################# Deleting Strings ######################\u001b[0m\u001b[0;34m\u001b[0m\u001b[0;34m\u001b[0m\u001b[0m\n\u001b[0;32m----> 2\u001b[0;31m \u001b[0;32mdel\u001b[0m\u001b[0;34m(\u001b[0m\u001b[0ms\u001b[0m\u001b[0;34m)\u001b[0m\u001b[0;34m\u001b[0m\u001b[0;34m\u001b[0m\u001b[0m\n\u001b[0m\u001b[1;32m      3\u001b[0m \u001b[0mprint\u001b[0m\u001b[0;34m(\u001b[0m\u001b[0ms\u001b[0m\u001b[0;34m)\u001b[0m \u001b[0;31m### string s is deleted\u001b[0m\u001b[0;34m\u001b[0m\u001b[0;34m\u001b[0m\u001b[0m\n",
            "\u001b[0;31mNameError\u001b[0m: name 's' is not defined"
          ]
        }
      ],
      "source": [
        "################# Deleting Strings ######################\n",
        "del(s)\n",
        "print(s) ### string s is deleted"
      ]
    },
    {
      "cell_type": "markdown",
      "source": [
        "**Operation on Strings:**\n",
        "*   Arithmatic (+ & *)\n",
        "*   Relational\n",
        "*   Logical\n",
        "*   Loops\n",
        "*   Membership\n",
        "\n",
        "\n",
        "\n",
        "\n",
        "\n"
      ],
      "metadata": {
        "id": "MCzavpzAuEnm"
      }
    },
    {
      "cell_type": "code",
      "execution_count": null,
      "metadata": {
        "id": "nlreKWVPZsXu",
        "colab": {
          "base_uri": "https://localhost:8080/"
        },
        "outputId": "a1b30965-6b55-42f6-de49-21d43975ca47"
      },
      "outputs": [
        {
          "output_type": "stream",
          "name": "stdout",
          "text": [
            "Hello World\n",
            "**********\n"
          ]
        }
      ],
      "source": [
        "###################### Arithmatic Operator ###################\n",
        "str1 = \"Hello\"\n",
        "str2 = \"World\"\n",
        "\n",
        "str3 = str1 + \" \" + str2\n",
        "\n",
        "print(str3)\n",
        "\n",
        "print(\"*\"*10)"
      ]
    },
    {
      "cell_type": "code",
      "execution_count": null,
      "metadata": {
        "colab": {
          "base_uri": "https://localhost:8080/"
        },
        "outputId": "1c30397b-eccd-465c-91f9-bb3cb04fd6e1",
        "id": "kHYcuRtrvbOT"
      },
      "outputs": [
        {
          "output_type": "stream",
          "name": "stdout",
          "text": [
            "False\n",
            "True\n",
            "False\n",
            "True\n",
            "True\n"
          ]
        }
      ],
      "source": [
        "###################### Relational Operator ###################\n",
        "\n",
        "print(str1 == str2)\n",
        "print(str1 != str2)\n",
        "\n",
        "print(str1 > str2)  ####### Lexiographical comparison\n",
        "print(\"Chittagong\" < \"Dhaka\")\n",
        "\n",
        "print(\"hello\">\"Hello\")"
      ]
    },
    {
      "cell_type": "code",
      "source": [
        "###################### Logical Operator ###################\n",
        "\" \" -> False\n",
        "\"any string\" -> True"
      ],
      "metadata": {
        "id": "jT3nE4sYwlk6"
      },
      "execution_count": null,
      "outputs": []
    },
    {
      "cell_type": "code",
      "source": [
        "\"hello\" or \"world\""
      ],
      "metadata": {
        "colab": {
          "base_uri": "https://localhost:8080/",
          "height": 35
        },
        "id": "BD9g0GYkx4pl",
        "outputId": "87e2687e-0412-4dc0-e77b-d8166d71c07b"
      },
      "execution_count": null,
      "outputs": [
        {
          "output_type": "execute_result",
          "data": {
            "text/plain": [
              "'hello'"
            ],
            "application/vnd.google.colaboratory.intrinsic+json": {
              "type": "string"
            }
          },
          "metadata": {},
          "execution_count": 36
        }
      ]
    },
    {
      "cell_type": "code",
      "source": [
        "\"\" or \"world\""
      ],
      "metadata": {
        "colab": {
          "base_uri": "https://localhost:8080/",
          "height": 35
        },
        "id": "2q1jiFDdyEKa",
        "outputId": "185187d5-5a0b-4f86-b410-4a562cf2b4de"
      },
      "execution_count": null,
      "outputs": [
        {
          "output_type": "execute_result",
          "data": {
            "text/plain": [
              "'world'"
            ],
            "application/vnd.google.colaboratory.intrinsic+json": {
              "type": "string"
            }
          },
          "metadata": {},
          "execution_count": 37
        }
      ]
    },
    {
      "cell_type": "code",
      "source": [
        "\"\" or \"\""
      ],
      "metadata": {
        "colab": {
          "base_uri": "https://localhost:8080/",
          "height": 35
        },
        "id": "K8CQhN5PyJS-",
        "outputId": "cccab851-62a1-41bc-8ae0-b5dbcf3d4546"
      },
      "execution_count": null,
      "outputs": [
        {
          "output_type": "execute_result",
          "data": {
            "text/plain": [
              "''"
            ],
            "application/vnd.google.colaboratory.intrinsic+json": {
              "type": "string"
            }
          },
          "metadata": {},
          "execution_count": 38
        }
      ]
    },
    {
      "cell_type": "code",
      "source": [
        "\"hello\" and \"world\""
      ],
      "metadata": {
        "colab": {
          "base_uri": "https://localhost:8080/",
          "height": 35
        },
        "id": "WiWlzx9MyN0q",
        "outputId": "9543d79d-bc64-4b19-9772-959daab48b5f"
      },
      "execution_count": null,
      "outputs": [
        {
          "output_type": "execute_result",
          "data": {
            "text/plain": [
              "'world'"
            ],
            "application/vnd.google.colaboratory.intrinsic+json": {
              "type": "string"
            }
          },
          "metadata": {},
          "execution_count": 39
        }
      ]
    },
    {
      "cell_type": "code",
      "source": [
        "\"hello\" and \"\""
      ],
      "metadata": {
        "colab": {
          "base_uri": "https://localhost:8080/",
          "height": 35
        },
        "id": "kKw0-kOAyZUm",
        "outputId": "7c62f449-d816-4cc8-e685-c7fb0892d225"
      },
      "execution_count": null,
      "outputs": [
        {
          "output_type": "execute_result",
          "data": {
            "text/plain": [
              "''"
            ],
            "application/vnd.google.colaboratory.intrinsic+json": {
              "type": "string"
            }
          },
          "metadata": {},
          "execution_count": 40
        }
      ]
    },
    {
      "cell_type": "code",
      "source": [
        "################ Loops ###################\n",
        "for i in range(len(str3)):\n",
        "  print(i,str3[i])"
      ],
      "metadata": {
        "colab": {
          "base_uri": "https://localhost:8080/"
        },
        "id": "KewMfjvKyq7Q",
        "outputId": "7df01b8f-9faf-449b-9802-b9796dd02ccd"
      },
      "execution_count": null,
      "outputs": [
        {
          "output_type": "stream",
          "name": "stdout",
          "text": [
            "0 H\n",
            "1 e\n",
            "2 l\n",
            "3 l\n",
            "4 o\n",
            "5  \n",
            "6 W\n",
            "7 o\n",
            "8 r\n",
            "9 l\n",
            "10 d\n"
          ]
        }
      ]
    },
    {
      "cell_type": "code",
      "source": [
        "for i in str3:\n",
        "  print(i)"
      ],
      "metadata": {
        "colab": {
          "base_uri": "https://localhost:8080/"
        },
        "id": "QbmydHYMzHMA",
        "outputId": "66141532-4f15-458a-a672-a43498a8fee5"
      },
      "execution_count": null,
      "outputs": [
        {
          "output_type": "stream",
          "name": "stdout",
          "text": [
            "H\n",
            "e\n",
            "l\n",
            "l\n",
            "o\n",
            " \n",
            "W\n",
            "o\n",
            "r\n",
            "l\n",
            "d\n"
          ]
        }
      ]
    },
    {
      "cell_type": "code",
      "source": [
        "for i in str3[::-1]:\n",
        "    print(i)"
      ],
      "metadata": {
        "colab": {
          "base_uri": "https://localhost:8080/"
        },
        "id": "8y4ByyPPzZX-",
        "outputId": "c28185b9-39d1-4bdf-90ec-2b0d122a30eb"
      },
      "execution_count": null,
      "outputs": [
        {
          "output_type": "stream",
          "name": "stdout",
          "text": [
            "d\n",
            "l\n",
            "r\n",
            "o\n",
            "W\n",
            " \n",
            "o\n",
            "l\n",
            "l\n",
            "e\n",
            "H\n"
          ]
        }
      ]
    },
    {
      "cell_type": "code",
      "source": [
        "########################## Membership operator ##############\n",
        "c = \"Hello World\"\n",
        "\n",
        "for i in range(len(c)):\n",
        "    if c[i] == 'l':\n",
        "        print(i, c[i])"
      ],
      "metadata": {
        "colab": {
          "base_uri": "https://localhost:8080/"
        },
        "id": "ItqQRaPOzq_x",
        "outputId": "0faa5efe-eb50-4716-c5cc-eed70b6773e1"
      },
      "execution_count": null,
      "outputs": [
        {
          "output_type": "stream",
          "name": "stdout",
          "text": [
            "2 l\n",
            "3 l\n",
            "9 l\n"
          ]
        }
      ]
    },
    {
      "cell_type": "code",
      "source": [
        "\"world\" in c"
      ],
      "metadata": {
        "colab": {
          "base_uri": "https://localhost:8080/"
        },
        "id": "kZrpi5cJ0zUy",
        "outputId": "1ce0c19d-a286-4ff4-af6a-caf27f188cef"
      },
      "execution_count": null,
      "outputs": [
        {
          "output_type": "execute_result",
          "data": {
            "text/plain": [
              "False"
            ]
          },
          "metadata": {},
          "execution_count": 53
        }
      ]
    },
    {
      "cell_type": "markdown",
      "source": [
        "# **String Functions**"
      ],
      "metadata": {
        "id": "SCTlGv8K1K52"
      }
    },
    {
      "cell_type": "markdown",
      "source": [
        "**Common functions that are used in every types of datatypes.**"
      ],
      "metadata": {
        "id": "Aht5udK22pjR"
      }
    },
    {
      "cell_type": "code",
      "source": [
        "c = \"chittagong\"\n",
        "\n",
        "print(len(c))\n",
        "print(max(c))\n",
        "print(min(c))\n",
        "print(sorted(c))"
      ],
      "metadata": {
        "colab": {
          "base_uri": "https://localhost:8080/"
        },
        "id": "LImBuixK1KUS",
        "outputId": "f51bab3f-224b-4a68-fcb4-3415a52dec0c"
      },
      "execution_count": null,
      "outputs": [
        {
          "output_type": "stream",
          "name": "stdout",
          "text": [
            "10\n",
            "t\n",
            "a\n",
            "['a', 'c', 'g', 'g', 'h', 'i', 'n', 'o', 't', 't']\n"
          ]
        }
      ]
    },
    {
      "cell_type": "code",
      "source": [
        "a = {6,1,30,15,2}\n",
        "print(sorted(a))\n",
        "print(max(a))\n",
        "print(min(a))\n",
        "print(len(a))"
      ],
      "metadata": {
        "colab": {
          "base_uri": "https://localhost:8080/"
        },
        "id": "ksWAcnjC13cZ",
        "outputId": "75494fb9-2cf9-435c-a6f8-75bdbfbb4c0d"
      },
      "execution_count": null,
      "outputs": [
        {
          "output_type": "stream",
          "name": "stdout",
          "text": [
            "[1, 2, 6, 15, 30]\n",
            "30\n",
            "1\n",
            "5\n"
          ]
        }
      ]
    },
    {
      "cell_type": "markdown",
      "source": [
        "**Functions only applicable on strings.**"
      ],
      "metadata": {
        "id": "_aPLPCx02yYB"
      }
    },
    {
      "cell_type": "markdown",
      "source": [
        "Capitalize | Upper | Lower | Title | Swapcase | Count | Find/Index | endswith/startswith | format | isalnum/ isalpha/ isdecimal/ isdigit/ isidentifier | Split | Join | Replace | Strip\n",
        "\n"
      ],
      "metadata": {
        "id": "8CGT2TGG4Fw3"
      }
    },
    {
      "cell_type": "code",
      "source": [
        "print(c.capitalize()) ### 1st letter is capitalized\n",
        "\n",
        "print(c.upper())\n",
        "print(c.lower())\n",
        "\n",
        "check = \"HelLo WoRld\"\n",
        "print(check.swapcase()) ####### will covert lower to upper and upper to lower"
      ],
      "metadata": {
        "colab": {
          "base_uri": "https://localhost:8080/"
        },
        "id": "jgatBYZ52Y09",
        "outputId": "90d2b124-8046-405b-cfb1-365e207cde7b"
      },
      "execution_count": null,
      "outputs": [
        {
          "output_type": "stream",
          "name": "stdout",
          "text": [
            "Chittagong\n",
            "CHITTAGONG\n",
            "chittagong\n",
            "hELlO wOrLD\n"
          ]
        }
      ]
    },
    {
      "cell_type": "code",
      "source": [
        "line = \"it is raining today\"\n",
        "print(line.title())\n",
        "\n",
        "print(line.count(\"i\"))\n",
        "print(line.count(\"rain\"))\n",
        "print(line.count(\"x\"))"
      ],
      "metadata": {
        "colab": {
          "base_uri": "https://localhost:8080/"
        },
        "id": "8yjZutaj3f6Y",
        "outputId": "5ac549f1-b827-4313-fbeb-00cbdb1fe9dd"
      },
      "execution_count": null,
      "outputs": [
        {
          "output_type": "stream",
          "name": "stdout",
          "text": [
            "It Is Raining Today\n",
            "4\n",
            "1\n",
            "0\n"
          ]
        }
      ]
    },
    {
      "cell_type": "code",
      "source": [
        "print(line.index(\"i\")) ############ index returns the position of first occurance\n",
        "print(line.index(\"rain\"))"
      ],
      "metadata": {
        "colab": {
          "base_uri": "https://localhost:8080/"
        },
        "id": "79kr916N5CdF",
        "outputId": "60f72c2a-c6a2-4a50-b687-a70e777093ad"
      },
      "execution_count": null,
      "outputs": [
        {
          "output_type": "stream",
          "name": "stdout",
          "text": [
            "0\n",
            "6\n"
          ]
        }
      ]
    },
    {
      "cell_type": "code",
      "source": [
        "print(\"it is raining\".endswith(\"ingef\"))\n",
        "print(\"it is raining\".startswith(\"it\"))"
      ],
      "metadata": {
        "colab": {
          "base_uri": "https://localhost:8080/"
        },
        "id": "N8VkaoRz5jOz",
        "outputId": "c9f8f01f-7a56-4069-804c-5c97b7e4ef84"
      },
      "execution_count": null,
      "outputs": [
        {
          "output_type": "stream",
          "name": "stdout",
          "text": [
            "False\n",
            "True\n"
          ]
        }
      ]
    },
    {
      "cell_type": "code",
      "source": [
        "#### Commonly used in login system. where programmer doesnot know what will be the input\n",
        "print(\"Hello my name is {} and I am {}\".format(\"Dona\",30))\n",
        "\n",
        "print(\"Hello my name is {1} and I am {0}\".format(\"Dona\",30))\n",
        "\n",
        "print(\"Hello my name is {name} and I am {age}\".format(name=\"Dona\",age=30))"
      ],
      "metadata": {
        "colab": {
          "base_uri": "https://localhost:8080/"
        },
        "id": "mpmRfLMx6Ga2",
        "outputId": "b4045110-425e-4419-9679-99e82a166c23"
      },
      "execution_count": null,
      "outputs": [
        {
          "output_type": "stream",
          "name": "stdout",
          "text": [
            "Hello my name is Dona and I am 30\n",
            "Hello my name is 30 and I am Dona\n",
            "Hello my name is Dona and I am 30\n"
          ]
        }
      ]
    },
    {
      "cell_type": "code",
      "source": [
        "#########  isalnum/ isalpha/ isdecimal/ isdigit/ isidentifier\n",
        "print(\"hello20\".isalpha())\n"
      ],
      "metadata": {
        "colab": {
          "base_uri": "https://localhost:8080/"
        },
        "id": "LuCGWjOR6yRV",
        "outputId": "b76a103f-ffdd-4b76-ed4e-b36d99fe8fce"
      },
      "execution_count": null,
      "outputs": [
        {
          "output_type": "stream",
          "name": "stdout",
          "text": [
            "False\n"
          ]
        }
      ]
    },
    {
      "cell_type": "code",
      "source": [
        "\"Flat20\".isalnum()"
      ],
      "metadata": {
        "colab": {
          "base_uri": "https://localhost:8080/"
        },
        "id": "SW1OUMVM7Max",
        "outputId": "773e2032-cb71-4c88-d90c-9614c4580e93"
      },
      "execution_count": null,
      "outputs": [
        {
          "output_type": "execute_result",
          "data": {
            "text/plain": [
              "True"
            ]
          },
          "metadata": {},
          "execution_count": 89
        }
      ]
    },
    {
      "cell_type": "code",
      "source": [
        "\"who is the pm of india\".split()"
      ],
      "metadata": {
        "colab": {
          "base_uri": "https://localhost:8080/"
        },
        "id": "Qy4u5vLe785e",
        "outputId": "5d932e26-0ea0-4aac-cb7a-6ca1abe76eae"
      },
      "execution_count": null,
      "outputs": [
        {
          "output_type": "execute_result",
          "data": {
            "text/plain": [
              "['who', 'is', 'the', 'pm', 'of', 'india']"
            ]
          },
          "metadata": {},
          "execution_count": 91
        }
      ]
    },
    {
      "cell_type": "code",
      "source": [
        "\"-\".join(['who', 'is', 'the', 'pm', 'of', 'india'])"
      ],
      "metadata": {
        "colab": {
          "base_uri": "https://localhost:8080/",
          "height": 35
        },
        "id": "wis6Oefc8Bwc",
        "outputId": "38c5e734-3e21-4cf2-cf71-146f8a15ea0b"
      },
      "execution_count": null,
      "outputs": [
        {
          "output_type": "execute_result",
          "data": {
            "text/plain": [
              "'who-is-the-pm-of-india'"
            ],
            "application/vnd.google.colaboratory.intrinsic+json": {
              "type": "string"
            }
          },
          "metadata": {},
          "execution_count": 92
        }
      ]
    },
    {
      "cell_type": "code",
      "source": [
        "\"Hi my name is Ashmita\".replace(\"Ashmita\",\"Dona\")"
      ],
      "metadata": {
        "colab": {
          "base_uri": "https://localhost:8080/",
          "height": 35
        },
        "id": "Il6BvG9C8bEC",
        "outputId": "5753c888-83b8-4642-ae78-1b61c7feb341"
      },
      "execution_count": null,
      "outputs": [
        {
          "output_type": "execute_result",
          "data": {
            "text/plain": [
              "'Hi my name is Dona'"
            ],
            "application/vnd.google.colaboratory.intrinsic+json": {
              "type": "string"
            }
          },
          "metadata": {},
          "execution_count": 93
        }
      ]
    },
    {
      "cell_type": "code",
      "source": [
        "name = \"               dona              \"\n",
        "name.strip()"
      ],
      "metadata": {
        "colab": {
          "base_uri": "https://localhost:8080/",
          "height": 35
        },
        "id": "h6tTsqgv8iCy",
        "outputId": "1704631c-4073-470b-eeaa-89656de97ce1"
      },
      "execution_count": null,
      "outputs": [
        {
          "output_type": "execute_result",
          "data": {
            "text/plain": [
              "'dona'"
            ],
            "application/vnd.google.colaboratory.intrinsic+json": {
              "type": "string"
            }
          },
          "metadata": {},
          "execution_count": 94
        }
      ]
    }
  ]
}