{
  "nbformat": 4,
  "nbformat_minor": 0,
  "metadata": {
    "colab": {
      "provenance": [],
      "authorship_tag": "ABX9TyNGqtz2F6rZG4coyl3UVtdt",
      "include_colab_link": true
    },
    "kernelspec": {
      "name": "python3",
      "display_name": "Python 3"
    },
    "language_info": {
      "name": "python"
    }
  },
  "cells": [
    {
      "cell_type": "markdown",
      "metadata": {
        "id": "view-in-github",
        "colab_type": "text"
      },
      "source": [
        "<a href=\"https://colab.research.google.com/github/AshmitaChowdhury92/Basic_Python/blob/main/Python_Learning.ipynb\" target=\"_parent\"><img src=\"https://colab.research.google.com/assets/colab-badge.svg\" alt=\"Open In Colab\"/></a>"
      ]
    },
    {
      "cell_type": "code",
      "source": [
        "print('Hello world.')                    ########### Normal print\n",
        "print ('India','Pakistan','Bangladesh')  ########### Print multiple things of same datatype\n",
        "print('India', 5, True)                  ########### Print multiple things of Different datatype...normally sep parameter set into ' ' by default.\n",
        "print('India', 5, True, sep='/')         ########### Usage of sep"
      ],
      "metadata": {
        "colab": {
          "base_uri": "https://localhost:8080/"
        },
        "id": "D4qFP7HnzCV7",
        "outputId": "d09c4e74-8a0a-4d49-9045-8c0aa6dbc560"
      },
      "execution_count": null,
      "outputs": [
        {
          "output_type": "stream",
          "name": "stdout",
          "text": [
            "Hello world.\n",
            "India Pakistan Bangladesh\n",
            "India 5 True\n",
            "India/5/True\n"
          ]
        }
      ]
    },
    {
      "cell_type": "markdown",
      "source": [
        "**Data Type:** 3 types of data.\n",
        "1. Basic: int, float, complex, boolean, string\n",
        "2. Container: sets, list, tuple, dictionary\n",
        "3. User-defined: class"
      ],
      "metadata": {
        "id": "BhKzQTFX1YOn"
      }
    },
    {
      "cell_type": "code",
      "source": [
        "# Basic data type\n",
        "\n",
        "print(5) #int\n",
        "print(7.5) #float\n",
        "print(True) #bool\n",
        "print('String') #string\n",
        "print('1+3j')   #complex"
      ],
      "metadata": {
        "colab": {
          "base_uri": "https://localhost:8080/"
        },
        "id": "EQs-fVIa1OaI",
        "outputId": "3f6324ed-e2d6-4b92-8fb3-2bc4219f7a54"
      },
      "execution_count": 8,
      "outputs": [
        {
          "output_type": "stream",
          "name": "stdout",
          "text": [
            "5\n",
            "7.5\n",
            "True\n",
            "String\n",
            "1+3j\n"
          ]
        }
      ]
    },
    {
      "cell_type": "code",
      "source": [
        "###List/array\n",
        "print((1,2,3,4))\n",
        "\n",
        "###Tuple\n",
        "print((92, 'Ashmita', 'CSE'))\n",
        "\n",
        "###Sets\n",
        "print({92, 'Ashmita', 'CSE'})\n",
        "\n",
        "###Dictionary\n",
        "print({'ID': 92, 'Name': 'Ashmita', 'Dept': 'CSE'})"
      ],
      "metadata": {
        "colab": {
          "base_uri": "https://localhost:8080/"
        },
        "id": "5UKCj909BGTs",
        "outputId": "41c8d1ca-3edd-4f4d-e1c4-dfae62e0ae23"
      },
      "execution_count": 12,
      "outputs": [
        {
          "output_type": "stream",
          "name": "stdout",
          "text": [
            "(1, 2, 3, 4)\n",
            "(92, 'Ashmita', 'CSE')\n",
            "{'Ashmita', 92, 'CSE'}\n",
            "{'ID': 92, 'Name': 'Ashmita', 'Dept': 'CSE'}\n"
          ]
        }
      ]
    }
  ]
}