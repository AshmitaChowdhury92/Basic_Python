{
  "nbformat": 4,
  "nbformat_minor": 0,
  "metadata": {
    "colab": {
      "provenance": [],
      "authorship_tag": "ABX9TyNpOC5xb1LPCSTVMHbW5N0r",
      "include_colab_link": true
    },
    "kernelspec": {
      "name": "python3",
      "display_name": "Python 3"
    },
    "language_info": {
      "name": "python"
    }
  },
  "cells": [
    {
      "cell_type": "markdown",
      "metadata": {
        "id": "view-in-github",
        "colab_type": "text"
      },
      "source": [
        "<a href=\"https://colab.research.google.com/github/AshmitaChowdhury92/Basic_Python/blob/main/Python_Learning.ipynb\" target=\"_parent\"><img src=\"https://colab.research.google.com/assets/colab-badge.svg\" alt=\"Open In Colab\"/></a>"
      ]
    },
    {
      "cell_type": "code",
      "source": [
        "print('Hello world.')                    ########### Normal print\n",
        "print ('India','Pakistan','Bangladesh')  ########### Print multiple things of same datatype\n",
        "print('India', 5, True)                  ########### Print multiple things of Different datatype...normally sep parameter set into ' ' by default.\n",
        "print('India', 5, True, sep='/')         ########### Usage of sep"
      ],
      "metadata": {
        "colab": {
          "base_uri": "https://localhost:8080/"
        },
        "id": "D4qFP7HnzCV7",
        "outputId": "d09c4e74-8a0a-4d49-9045-8c0aa6dbc560"
      },
      "execution_count": null,
      "outputs": [
        {
          "output_type": "stream",
          "name": "stdout",
          "text": [
            "Hello world.\n",
            "India Pakistan Bangladesh\n",
            "India 5 True\n",
            "India/5/True\n"
          ]
        }
      ]
    },
    {
      "cell_type": "code",
      "source": [
        "## This a a comment.\n",
        "\n",
        "\"\"\" Comment can be written is two different way.\n",
        "First Type is shown above and\n",
        "this is the second type. \"\"\""
      ],
      "metadata": {
        "colab": {
          "base_uri": "https://localhost:8080/",
          "height": 35
        },
        "id": "Kd9vHJEjRHJx",
        "outputId": "527dc5ec-6077-40c1-e454-2a079dc957b8"
      },
      "execution_count": null,
      "outputs": [
        {
          "output_type": "execute_result",
          "data": {
            "text/plain": [
              "' Comment can be written is two different way.\\nFirst Type is shown above and\\nthis is the second type. '"
            ],
            "application/vnd.google.colaboratory.intrinsic+json": {
              "type": "string"
            }
          },
          "metadata": {},
          "execution_count": 1
        }
      ]
    },
    {
      "cell_type": "markdown",
      "source": [
        "**Data Type:** 3 types of data.\n",
        "1. Basic: int, float, complex, boolean, string\n",
        "2. Container: sets, list, tuple, dictionary\n",
        "3. User-defined: class"
      ],
      "metadata": {
        "id": "BhKzQTFX1YOn"
      }
    },
    {
      "cell_type": "code",
      "source": [
        "# Basic data type\n",
        "\n",
        "print(5) #int\n",
        "print(7.5) #float\n",
        "print(True) #bool\n",
        "print('String') #string\n",
        "print('1+3j')   #complex"
      ],
      "metadata": {
        "colab": {
          "base_uri": "https://localhost:8080/"
        },
        "id": "EQs-fVIa1OaI",
        "outputId": "3f6324ed-e2d6-4b92-8fb3-2bc4219f7a54"
      },
      "execution_count": null,
      "outputs": [
        {
          "output_type": "stream",
          "name": "stdout",
          "text": [
            "5\n",
            "7.5\n",
            "True\n",
            "String\n",
            "1+3j\n"
          ]
        }
      ]
    },
    {
      "cell_type": "code",
      "source": [
        "###List/array\n",
        "print([1,2,3,4])\n",
        "\n",
        "###Tuple\n",
        "print((92, 'Ashmita', 'CSE'))\n",
        "\n",
        "###Sets\n",
        "print({92, 'Ashmita', 'CSE'})\n",
        "\n",
        "###Dictionary\n",
        "print({'ID': 92, 'Name': 'Ashmita', 'Dept': 'CSE'})"
      ],
      "metadata": {
        "colab": {
          "base_uri": "https://localhost:8080/"
        },
        "id": "5UKCj909BGTs",
        "outputId": "a1b4ebc8-1cec-4431-f1c2-30016271e8f7"
      },
      "execution_count": 1,
      "outputs": [
        {
          "output_type": "stream",
          "name": "stdout",
          "text": [
            "[1, 2, 3, 4]\n",
            "(92, 'Ashmita', 'CSE')\n",
            "{'CSE', 92, 'Ashmita'}\n",
            "{'ID': 92, 'Name': 'Ashmita', 'Dept': 'CSE'}\n"
          ]
        }
      ]
    },
    {
      "cell_type": "markdown",
      "source": [
        "**Variables**:"
      ],
      "metadata": {
        "id": "h61t9I0cEFT2"
      }
    },
    {
      "cell_type": "code",
      "source": [
        "name = \"XYZ\"\n",
        "print(name)"
      ],
      "metadata": {
        "colab": {
          "base_uri": "https://localhost:8080/"
        },
        "id": "dlkKsq2DFv6L",
        "outputId": "b5a884fa-53a5-4470-e185-7291ee6c75c8"
      },
      "execution_count": null,
      "outputs": [
        {
          "output_type": "stream",
          "name": "stdout",
          "text": [
            "XYZ\n"
          ]
        }
      ]
    },
    {
      "cell_type": "code",
      "source": [
        "#assigning values to variables\n",
        "\n",
        "#Type1\n",
        "a=5 ; b=6 ; c= 7\n",
        "print(a)\n",
        "print(b)\n",
        "print(c)\n",
        "\n",
        "#type2\n",
        "print(\"Printing type2:\")\n",
        "a,b,c = 4,5,6\n",
        "print(a)\n",
        "print(b)\n",
        "print(c)\n",
        "\n"
      ],
      "metadata": {
        "colab": {
          "base_uri": "https://localhost:8080/"
        },
        "id": "4W_TYMWfF3Rp",
        "outputId": "50153b84-3b4b-4090-8102-e14110436aec"
      },
      "execution_count": null,
      "outputs": [
        {
          "output_type": "stream",
          "name": "stdout",
          "text": [
            "5\n",
            "6\n",
            "7\n",
            "Printing type2:\n",
            "4\n",
            "5\n",
            "6\n"
          ]
        }
      ]
    },
    {
      "cell_type": "markdown",
      "source": [
        "Special features of Python:\n",
        "\n",
        "> 1. Dynamic typing vs Static Typing: Python is clever enough that it can automatically detect the datatype of the variable. We don't have to declare the datatype like C,C++ or JAVA\n",
        "\n",
        "> 2. Dynamic Binding vs Static Binding: If a variable is assigned to a specific datatype then it can not be canged in C/C++/JAVA. But this is not the case in Python.\n",
        "\n",
        "\n",
        "\n",
        "\n"
      ],
      "metadata": {
        "id": "_uep5w0IGTL2"
      }
    },
    {
      "cell_type": "markdown",
      "source": [
        "**Taking Input from User**"
      ],
      "metadata": {
        "id": "KoVhTl6MYEYA"
      }
    },
    {
      "cell_type": "code",
      "source": [
        "################################## using prompt is useful beacause it defines clearly which type of input we are looking for#########################\n",
        "name = input(\"Tell your name:\" )\n",
        "age = int(input(\"give your age:\"))\n",
        "print(\"My name is\",name+\" and age is\",str(age))  ############## TYPE CONVERSION. type of age is converted into string.\n"
      ],
      "metadata": {
        "id": "F6dfb_lTHInE",
        "colab": {
          "base_uri": "https://localhost:8080/"
        },
        "outputId": "4e9db2c6-fbef-42d0-bd2e-83aa065a3e9a"
      },
      "execution_count": null,
      "outputs": [
        {
          "output_type": "stream",
          "name": "stdout",
          "text": [
            "Tell your name:Ashmita\n",
            "give your age:25\n",
            "My name is Ashmita and age is 25\n"
          ]
        }
      ]
    },
    {
      "cell_type": "markdown",
      "source": [
        "**Type conversion** 2 types:\n",
        "1. implicit\n",
        "2. explicit"
      ],
      "metadata": {
        "id": "Q346k1mPcaWd"
      }
    },
    {
      "cell_type": "code",
      "source": [
        "################## implicit type conversion #################\n",
        "print(3+4.5)\n",
        "print(3.7+4.5)\n",
        "print(3+4+5j)\n",
        "print(3.5+4+5j)\n",
        "print(3+2j+4+5j)"
      ],
      "metadata": {
        "colab": {
          "base_uri": "https://localhost:8080/"
        },
        "id": "t3pUE0INdaL7",
        "outputId": "bca32844-c651-418e-c194-6f7244c5dc53"
      },
      "execution_count": null,
      "outputs": [
        {
          "output_type": "stream",
          "name": "stdout",
          "text": [
            "7.5\n",
            "8.2\n",
            "(7+5j)\n",
            "(7.5+5j)\n",
            "(7+7j)\n"
          ]
        }
      ]
    },
    {
      "cell_type": "code",
      "source": [
        "################### explicit type conversion ####################\n",
        "print(int(4.5))\n",
        "print(float(100))\n",
        "print(complex(4))\n",
        "print(list(\"Hello\"))\n",
        "print(str(4))"
      ],
      "metadata": {
        "colab": {
          "base_uri": "https://localhost:8080/"
        },
        "id": "ZYqIH-tDd4DI",
        "outputId": "1c654253-1a85-4a13-ee13-2b60ef4995b3"
      },
      "execution_count": null,
      "outputs": [
        {
          "output_type": "stream",
          "name": "stdout",
          "text": [
            "4\n",
            "100.0\n",
            "(4+0j)\n",
            "['H', 'e', 'l', 'l', 'o']\n",
            "4\n"
          ]
        }
      ]
    },
    {
      "cell_type": "code",
      "source": [
        "############ Add two numbers################\n",
        "frst_num = input(\"Enter the first num:\")\n",
        "scnd_num = input(\"Enter the second num:\")\n",
        "result = frst_num + scnd_num\n",
        "print(result)       ############## considering this two int as a string. beacause type of input is not declared before taking input.\n",
        "print(type(result))\n",
        "\n",
        "f_num = int(input(\"Enter the first num:\"))\n",
        "s_num = int(input(\"Enter the second num:\"))\n",
        "result = f_num + s_num\n",
        "print(result)\n",
        "print(type(result))"
      ],
      "metadata": {
        "colab": {
          "base_uri": "https://localhost:8080/"
        },
        "id": "h-iRfaykaiVQ",
        "outputId": "d278d70a-e2bf-4bac-f6ba-55a8d8824a80"
      },
      "execution_count": null,
      "outputs": [
        {
          "output_type": "stream",
          "name": "stdout",
          "text": [
            "Enter the first num:5\n",
            "Enter the second num:5\n",
            "55\n",
            "<class 'str'>\n",
            "Enter the first num:5\n",
            "Enter the second num:5\n",
            "10\n",
            "<class 'int'>\n"
          ]
        }
      ]
    },
    {
      "cell_type": "markdown",
      "source": [
        "**Literals:** 4 types.\n",
        "1. Numerical\n",
        "2. Boolean\n",
        "3. String\n",
        "4. Special Literals."
      ],
      "metadata": {
        "id": "_bgVe1b1gICY"
      }
    },
    {
      "cell_type": "code",
      "source": [
        "################# numerical literals ################\n",
        "a = 0b1010 #Binary Literals\n",
        "b = 100 #Decimal Literal\n",
        "c = 0o310 #Octal Literal\n",
        "d = 0x12c #Hexadecimal Literal\n",
        "\n",
        "#Float Literal\n",
        "float_1 = 10.5\n",
        "float_2 = 1.5e2\n",
        "float_3 = 1.5e-3\n",
        "\n",
        "#Complex Literal\n",
        "x = 3.14j\n",
        "\n",
        "print(a, b, c, d)\n",
        "print(float_1, float_2,float_3)\n",
        "print(x, x.imag, x.real)"
      ],
      "metadata": {
        "colab": {
          "base_uri": "https://localhost:8080/"
        },
        "id": "6ubYMC3DgYAq",
        "outputId": "90e78e35-74d9-4c37-b4c7-82bea441992f"
      },
      "execution_count": null,
      "outputs": [
        {
          "output_type": "stream",
          "name": "stdout",
          "text": [
            "10 100 200 300\n",
            "10.5 150.0 0.0015\n",
            "3.14j 3.14 0.0\n"
          ]
        }
      ]
    },
    {
      "cell_type": "code",
      "source": [
        "######################### string literals #####################\n",
        "string = 'This is Python'\n",
        "strings = \"This is Python\"\n",
        "char = \"C\"\n",
        "multiline_str = \"\"\"This is a multiline string with more than one line code.\"\"\"\n",
        "unicode = u\"\\U0001f600\\U0001F606\\U0001F923\"\n",
        "raw_str = r\"raw \\n string\"\n",
        "\n",
        "print(string)\n",
        "print(strings)\n",
        "print(char)\n",
        "print(multiline_str)\n",
        "print(unicode)\n",
        "print(raw_str)"
      ],
      "metadata": {
        "colab": {
          "base_uri": "https://localhost:8080/"
        },
        "id": "kvoZpuS_gib5",
        "outputId": "816f7b8a-d7c5-4f0b-dcbe-d38d3cd0bc74"
      },
      "execution_count": null,
      "outputs": [
        {
          "output_type": "stream",
          "name": "stdout",
          "text": [
            "This is Python\n",
            "This is Python\n",
            "C\n",
            "This is a multiline string with more than one line code.\n",
            "😀😆🤣\n",
            "raw \\n string\n"
          ]
        }
      ]
    },
    {
      "cell_type": "code",
      "source": [
        "######################### boolean literals ###################\n",
        "a = True + 4\n",
        "b = False + 10\n",
        "\n",
        "print(\"a:\", a)\n",
        "print(\"b:\", b)"
      ],
      "metadata": {
        "colab": {
          "base_uri": "https://localhost:8080/"
        },
        "id": "ElVuAaLwglXi",
        "outputId": "f14d9cae-66ee-4a59-a81d-74197b9a3537"
      },
      "execution_count": null,
      "outputs": [
        {
          "output_type": "stream",
          "name": "stdout",
          "text": [
            "a: 5\n",
            "b: 10\n"
          ]
        }
      ]
    },
    {
      "cell_type": "code",
      "source": [
        "######################## special literals ######################\n",
        "\n",
        "### way to declare variable ############\n",
        "a = None\n",
        "print(a)"
      ],
      "metadata": {
        "colab": {
          "base_uri": "https://localhost:8080/"
        },
        "id": "dU8NRxUwgp_x",
        "outputId": "cda0321f-2c62-4092-c4b9-ec7443635f37"
      },
      "execution_count": null,
      "outputs": [
        {
          "output_type": "stream",
          "name": "stdout",
          "text": [
            "None\n"
          ]
        }
      ]
    }
  ]
}