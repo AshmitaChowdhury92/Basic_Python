{
  "nbformat": 4,
  "nbformat_minor": 0,
  "metadata": {
    "colab": {
      "provenance": [],
      "authorship_tag": "ABX9TyMYHGjvBIIbyCjEk72duymo",
      "include_colab_link": true
    },
    "kernelspec": {
      "name": "python3",
      "display_name": "Python 3"
    },
    "language_info": {
      "name": "python"
    }
  },
  "cells": [
    {
      "cell_type": "markdown",
      "metadata": {
        "id": "view-in-github",
        "colab_type": "text"
      },
      "source": [
        "<a href=\"https://colab.research.google.com/github/AshmitaChowdhury92/Basic_Python/blob/main/Control_Statement.ipynb\" target=\"_parent\"><img src=\"https://colab.research.google.com/assets/colab-badge.svg\" alt=\"Open In Colab\"/></a>"
      ]
    },
    {
      "cell_type": "markdown",
      "source": [
        "# **If-Else Statement/Control Statement**"
      ],
      "metadata": {
        "id": "dlymIeBNiY72"
      }
    },
    {
      "cell_type": "code",
      "execution_count": 2,
      "metadata": {
        "colab": {
          "base_uri": "https://localhost:8080/"
        },
        "id": "hIILewcbfaO1",
        "outputId": "8f0d88d0-8a63-4ac4-eb1d-e6058aad457e"
      },
      "outputs": [
        {
          "output_type": "stream",
          "name": "stdout",
          "text": [
            "Give your email address:kjhkfjdn\n",
            "Give your password:kjkn\n",
            "Incorrect credentials.\n"
          ]
        }
      ],
      "source": [
        "email = input(\"Give your email address:\")\n",
        "password = input(\"Give your password:\")\n",
        "\n",
        "if email == \"abcd@gmail.com\" and password == \"1234\":\n",
        "  print (\"Welcome.\")\n",
        "else:\n",
        "  print(\"Incorrect credentials.\")\n"
      ]
    },
    {
      "cell_type": "code",
      "source": [
        "email = input(\"Give your email address:\")\n",
        "password = input(\"Give your password:\")\n",
        "\n",
        "if email == \"abcd@gmail.com\":\n",
        "  if password == \"1234\":\n",
        "    print (\"Welcome\")\n",
        "  else:\n",
        "    print (\"Wrong Password\")\n",
        "else:\n",
        "  print(\"Incorrect Credentials.\")\n",
        ""
      ],
      "metadata": {
        "colab": {
          "base_uri": "https://localhost:8080/"
        },
        "id": "qInRAGeGhQRr",
        "outputId": "fee7bfab-7a23-4a53-a5a2-10122df2697e"
      },
      "execution_count": 3,
      "outputs": [
        {
          "output_type": "stream",
          "name": "stdout",
          "text": [
            "Give your email address:abcd@gmail.com\n",
            "Give your password:5678\n",
            "Wrong Password\n"
          ]
        }
      ]
    },
    {
      "cell_type": "code",
      "source": [
        "email = input(\"Give your email address:\")\n",
        "if \"@\" in email:\n",
        "  if email == \"abcd@gmail.com\":\n",
        "    password = input(\"Give password:\")\n",
        "    if password == \"1234\":\n",
        "      print (\"Welcome\")\n",
        "    else:\n",
        "      print (\"Wrong Password\")\n",
        "\n",
        "\n",
        "else:\n",
        "  print(\"inCorrect Mail Adress.\")\n",
        "  email = input(\"Give Correct mail address:\")\n",
        "  if email == \"abcd@gmail.com\":\n",
        "    password = input(\"Give password:\")\n",
        "    if password == \"1234\":\n",
        "      print (\"Welcome\")\n",
        "    else:\n",
        "      print (\"Wrong Password\")\n",
        "  else:\n",
        "    print (\"Again wrong email.\")\n"
      ],
      "metadata": {
        "colab": {
          "base_uri": "https://localhost:8080/"
        },
        "id": "8KDSjEBeh5tr",
        "outputId": "4cd5c880-31ce-478a-c6e0-b5a33a6d4a04"
      },
      "execution_count": 16,
      "outputs": [
        {
          "output_type": "stream",
          "name": "stdout",
          "text": [
            "Give your email address:abcd@gmail.com\n",
            "Give password:1234\n",
            "Welcome\n"
          ]
        }
      ]
    }
  ]
}