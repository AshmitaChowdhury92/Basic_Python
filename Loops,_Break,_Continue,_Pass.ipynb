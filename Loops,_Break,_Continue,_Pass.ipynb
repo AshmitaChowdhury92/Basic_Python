{
  "nbformat": 4,
  "nbformat_minor": 0,
  "metadata": {
    "colab": {
      "provenance": [],
      "authorship_tag": "ABX9TyPvq3klcCysaXQaxS+9ngTN",
      "include_colab_link": true
    },
    "kernelspec": {
      "name": "python3",
      "display_name": "Python 3"
    },
    "language_info": {
      "name": "python"
    }
  },
  "cells": [
    {
      "cell_type": "markdown",
      "metadata": {
        "id": "view-in-github",
        "colab_type": "text"
      },
      "source": [
        "<a href=\"https://colab.research.google.com/github/AshmitaChowdhury92/Basic_Python/blob/main/Loops%2C_Break%2C_Continue%2C_Pass.ipynb\" target=\"_parent\"><img src=\"https://colab.research.google.com/assets/colab-badge.svg\" alt=\"Open In Colab\"/></a>"
      ]
    },
    {
      "cell_type": "markdown",
      "source": [
        "# Loops:\n",
        "Two types: While loop and For loop"
      ],
      "metadata": {
        "id": "ElRJsBxU5gnA"
      }
    },
    {
      "cell_type": "markdown",
      "source": [
        "**While Loops**"
      ],
      "metadata": {
        "id": "8K0ax6EIkJ0c"
      }
    },
    {
      "cell_type": "code",
      "execution_count": 1,
      "metadata": {
        "colab": {
          "base_uri": "https://localhost:8080/"
        },
        "id": "5HEIdqfRoQEI",
        "outputId": "e5eb19bf-5867-472e-8d62-278455827440"
      },
      "outputs": [
        {
          "output_type": "stream",
          "name": "stdout",
          "text": [
            "enter number:5\n",
            "5\n",
            "10\n",
            "15\n",
            "20\n",
            "25\n",
            "30\n",
            "35\n",
            "40\n",
            "45\n",
            "50\n"
          ]
        }
      ],
      "source": [
        "####################### Multiplication table of a given number ############################\n",
        "\n",
        "num = int(input(\"enter number:\"))\n",
        "i = 1\n",
        "while i<=10:\n",
        "  print (num*i)\n",
        "  i+=1"
      ]
    },
    {
      "cell_type": "code",
      "source": [
        "########################## Random number Guessing Game ##########################################\n",
        "\n",
        "import random\n",
        "\n",
        "rand_num = random.randint(1, 100)\n",
        "i = 0\n",
        "\n",
        "while True:\n",
        "    guess = int(input(\"Enter your guessed number:\"))\n",
        "\n",
        "    if guess == rand_num:\n",
        "        print(\"Correct Guessing.\")\n",
        "        break  # exit the loop if the guess is correct\n",
        "    elif guess > rand_num:\n",
        "        print(\"Guess lower number\")\n",
        "    else:\n",
        "        print(\"Guess higher number\")\n",
        "\n",
        "    i += 1\n",
        "\n",
        "print(\"Total attempt:\", i + 1)  # Adding 1 because the correct guess is also an attempt\n",
        "\n",
        "\n"
      ],
      "metadata": {
        "colab": {
          "base_uri": "https://localhost:8080/"
        },
        "id": "x8ccqdyF6I3v",
        "outputId": "7b07ff8c-9ed6-4941-fdf6-09182e13f516"
      },
      "execution_count": 2,
      "outputs": [
        {
          "output_type": "stream",
          "name": "stdout",
          "text": [
            "Enter your guessed number:50\n",
            "Guess lower number\n",
            "Enter your guessed number:40\n",
            "Guess lower number\n",
            "Enter your guessed number:30\n",
            "Guess lower number\n",
            "Enter your guessed number:20\n",
            "Guess lower number\n",
            "Enter your guessed number:10\n",
            "Guess higher number\n",
            "Enter your guessed number:15\n",
            "Guess lower number\n",
            "Enter your guessed number:14\n",
            "Guess lower number\n",
            "Enter your guessed number:13\n",
            "Guess lower number\n",
            "Enter your guessed number:12\n",
            "Guess lower number\n",
            "Enter your guessed number:11\n",
            "Correct Guessing.\n",
            "Total attempt: 10\n"
          ]
        }
      ]
    },
    {
      "cell_type": "markdown",
      "source": [
        "**For Loops**"
      ],
      "metadata": {
        "id": "BgNdKfoblE6F"
      }
    },
    {
      "cell_type": "code",
      "source": [
        "########################## Range Function ##########################################\n",
        "print(list(range(1,11)))\n",
        "\n",
        "print(list(range(0,10,3)))\n",
        "\n",
        "print(list(range(-10, -100, -30)))\n",
        "\n",
        "print(list(range(10, 0, -1)))"
      ],
      "metadata": {
        "colab": {
          "base_uri": "https://localhost:8080/"
        },
        "id": "TQqfAgowlImQ",
        "outputId": "f780d3ca-d04e-4e03-f995-718586b1c5f0"
      },
      "execution_count": 3,
      "outputs": [
        {
          "output_type": "stream",
          "name": "stdout",
          "text": [
            "[1, 2, 3, 4, 5, 6, 7, 8, 9, 10]\n",
            "[0, 3, 6, 9]\n",
            "[-10, -40, -70]\n",
            "[10, 9, 8, 7, 6, 5, 4, 3, 2, 1]\n"
          ]
        }
      ]
    },
    {
      "cell_type": "code",
      "source": [
        "for i in range(0,10,2):\n",
        "  print(i)"
      ],
      "metadata": {
        "colab": {
          "base_uri": "https://localhost:8080/"
        },
        "id": "VKhInhZpmO_l",
        "outputId": "33178579-fff3-463c-fdd3-b7b3f6d18115"
      },
      "execution_count": 4,
      "outputs": [
        {
          "output_type": "stream",
          "name": "stdout",
          "text": [
            "0\n",
            "2\n",
            "4\n",
            "6\n",
            "8\n"
          ]
        }
      ]
    },
    {
      "cell_type": "code",
      "source": [
        "for i in \"Bangladesh\":\n",
        "  print(i)"
      ],
      "metadata": {
        "colab": {
          "base_uri": "https://localhost:8080/"
        },
        "id": "4I3rfaDspvtb",
        "outputId": "bbe44add-2af4-4d2b-d47a-1be680847817"
      },
      "execution_count": 5,
      "outputs": [
        {
          "output_type": "stream",
          "name": "stdout",
          "text": [
            "B\n",
            "a\n",
            "n\n",
            "g\n",
            "l\n",
            "a\n",
            "d\n",
            "e\n",
            "s\n",
            "h\n"
          ]
        }
      ]
    },
    {
      "cell_type": "code",
      "source": [
        "a = ['Mary', 'had','a','cute','dog']\n",
        "i=0\n",
        "for i in range(len(a)):\n",
        "  print(i,a[i])"
      ],
      "metadata": {
        "colab": {
          "base_uri": "https://localhost:8080/"
        },
        "id": "qfx8xOuknvfN",
        "outputId": "3e8241b0-f7f3-47f7-d6f5-325dd724d1a4"
      },
      "execution_count": 6,
      "outputs": [
        {
          "output_type": "stream",
          "name": "stdout",
          "text": [
            "0 Mary\n",
            "1 had\n",
            "2 a\n",
            "3 cute\n",
            "4 dog\n"
          ]
        }
      ]
    },
    {
      "cell_type": "code",
      "source": [
        "a = ['Mary', 'had','a','cute','dog']\n",
        "i=0\n",
        "\n",
        "print(range(len(a)))\n",
        "print(len(a))"
      ],
      "metadata": {
        "colab": {
          "base_uri": "https://localhost:8080/"
        },
        "id": "x_NotiTfoECy",
        "outputId": "bd91aafd-6ff8-4e5a-e1a4-8d32f7c81d0a"
      },
      "execution_count": 7,
      "outputs": [
        {
          "output_type": "stream",
          "name": "stdout",
          "text": [
            "range(0, 5)\n",
            "5\n"
          ]
        }
      ]
    },
    {
      "cell_type": "code",
      "source": [
        "a = ['cat', 'window', 'defenestrate']\n",
        "\n",
        "for i in range(len(a)):\n",
        "  print(i,a[i], len(a[i]))"
      ],
      "metadata": {
        "colab": {
          "base_uri": "https://localhost:8080/"
        },
        "id": "ZV4a70Iz5NAl",
        "outputId": "7c4e9958-3e76-4a25-dbf5-851562c1875f"
      },
      "execution_count": 11,
      "outputs": [
        {
          "output_type": "stream",
          "name": "stdout",
          "text": [
            "0 cat 3\n",
            "1 window 6\n",
            "2 defenestrate 12\n"
          ]
        }
      ]
    },
    {
      "cell_type": "code",
      "source": [
        "# prompt: python code to output the prime numbers and non prime numbers along with their factors from 1 to 10.\n",
        "\n",
        "for i in range(2, 11):\n",
        "    factors = []\n",
        "    for j in range(2, i + 1):\n",
        "        if i % j == 0:\n",
        "            factors.append(j)\n",
        "    if len(factors) == 1:\n",
        "        print(f\"{i} is a prime number with no factors.\")\n",
        "    else:\n",
        "        print(f\"{i} is not a prime number with factors {factors}.\")\n"
      ],
      "metadata": {
        "colab": {
          "base_uri": "https://localhost:8080/"
        },
        "id": "YSZWVq5tpLXT",
        "outputId": "f3b46dc5-fa75-4c93-9d64-5d6b1c5372a5"
      },
      "execution_count": 13,
      "outputs": [
        {
          "output_type": "stream",
          "name": "stdout",
          "text": [
            "2 is a prime number with no factors.\n",
            "3 is a prime number with no factors.\n",
            "4 is not a prime number with factors [2, 4].\n",
            "5 is a prime number with no factors.\n",
            "6 is not a prime number with factors [2, 3, 6].\n",
            "7 is a prime number with no factors.\n",
            "8 is not a prime number with factors [2, 4, 8].\n",
            "9 is not a prime number with factors [3, 9].\n",
            "10 is not a prime number with factors [2, 5, 10].\n"
          ]
        }
      ]
    },
    {
      "cell_type": "code",
      "source": [
        "########################## Even Odd numbers ##########################################\n",
        "\n",
        "for i in range(1,10):\n",
        "  if i%2 == 0:\n",
        "    print(\"Found an even number\", i)\n",
        "  else:\n",
        "    print(\"Found an odd number\",i)"
      ],
      "metadata": {
        "colab": {
          "base_uri": "https://localhost:8080/"
        },
        "id": "VTEYYZQL6Ujw",
        "outputId": "e9b36a96-dcc6-4def-e50f-a164679e3eca"
      },
      "execution_count": 14,
      "outputs": [
        {
          "output_type": "stream",
          "name": "stdout",
          "text": [
            "Found an odd number 1\n",
            "Found an even number 2\n",
            "Found an odd number 3\n",
            "Found an even number 4\n",
            "Found an odd number 5\n",
            "Found an even number 6\n",
            "Found an odd number 7\n",
            "Found an even number 8\n",
            "Found an odd number 9\n"
          ]
        }
      ]
    },
    {
      "cell_type": "code",
      "source": [
        "########################## Printing Patterns ##########################################\n",
        "\n",
        "for i in range(1,6):\n",
        "  for j in range(0,i):\n",
        "    print('*', end = ' ')\n",
        "  print('')\n",
        "\n"
      ],
      "metadata": {
        "colab": {
          "base_uri": "https://localhost:8080/"
        },
        "id": "IhwjiKwxroUn",
        "outputId": "48597d84-fa58-4f22-e1c3-66981803724d"
      },
      "execution_count": 9,
      "outputs": [
        {
          "output_type": "stream",
          "name": "stdout",
          "text": [
            "* \n",
            "* * \n",
            "* * * \n",
            "* * * * \n",
            "* * * * * \n"
          ]
        }
      ]
    },
    {
      "cell_type": "markdown",
      "source": [
        "# **Break, Continue, Pass**"
      ],
      "metadata": {
        "id": "7xoocEHh-JlP"
      }
    },
    {
      "cell_type": "code",
      "source": [
        "########################## Break ##########################################\n",
        "\n",
        "for i in range (1,11):\n",
        "  if i == 5:\n",
        "    break\n",
        "  else:\n",
        "    print(i)"
      ],
      "metadata": {
        "colab": {
          "base_uri": "https://localhost:8080/"
        },
        "id": "QFeaNsKv-NXR",
        "outputId": "8d24c6cf-9693-475e-d982-637450241536"
      },
      "execution_count": 16,
      "outputs": [
        {
          "output_type": "stream",
          "name": "stdout",
          "text": [
            "1\n",
            "2\n",
            "3\n",
            "4\n"
          ]
        }
      ]
    },
    {
      "cell_type": "code",
      "source": [
        "########################## Continue ##########################################\n",
        "\n",
        "for i in range(1,11):\n",
        "  if i==5:\n",
        "    continue\n",
        "  print(i)"
      ],
      "metadata": {
        "colab": {
          "base_uri": "https://localhost:8080/"
        },
        "id": "y2TNykLQ-bv7",
        "outputId": "6568a097-9833-4380-da59-8f1fdf8de3e0"
      },
      "execution_count": 17,
      "outputs": [
        {
          "output_type": "stream",
          "name": "stdout",
          "text": [
            "1\n",
            "2\n",
            "3\n",
            "4\n",
            "6\n",
            "7\n",
            "8\n",
            "9\n",
            "10\n"
          ]
        }
      ]
    },
    {
      "cell_type": "code",
      "source": [
        "########################## Pass ##########################################\n",
        "for i in range(1,11):\n",
        "  pass"
      ],
      "metadata": {
        "id": "yjVziZgf-svj"
      },
      "execution_count": 18,
      "outputs": []
    }
  ]
}